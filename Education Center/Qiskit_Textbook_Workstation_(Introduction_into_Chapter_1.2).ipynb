{
 "cells": [
  {
   "cell_type": "markdown",
   "metadata": {},
   "source": [
    "# Qiskit Workbook Workstation\n",
    "\n",
    "This is workstation for the Qiskit Textbook page from **Qiskit** comprehensive documentation (https://qiskit.org/) It will be a Notebook to store all the solved exercises we encounter in the Qiskit Textbook, and further the main quantum computing algorithms we can find and run/solve/*improve* in the textbook."
   ]
  },
  {
   "cell_type": "code",
   "execution_count": null,
   "metadata": {
    "collapsed": true,
    "scrolled": true
   },
   "outputs": [],
   "source": [
    "!pip install qiskit\n"
   ]
  },
  {
   "cell_type": "markdown",
   "metadata": {},
   "source": [
    "# Getting Qiskit started\n",
    "\n",
    "In the following cells I'll present exampl,les of the first basic operations we can do in Qiskit. This will be pf further relevance as we move forward with the Textbook."
   ]
  },
  {
   "cell_type": "code",
   "execution_count": 1,
   "metadata": {
    "collapsed": true
   },
   "outputs": [],
   "source": [
    "import qiskit\n",
    "import matplotlib as plt\n",
    "import numpy as np\n",
    "import pandas as pd\n",
    "import math "
   ]
  },
  {
   "cell_type": "code",
   "execution_count": 2,
   "metadata": {
    "collapsed": true
   },
   "outputs": [],
   "source": [
    "from qiskit import(\n",
    "  QuantumCircuit,\n",
    "  execute,\n",
    "  Aer)\n",
    "from qiskit.visualization import plot_histogram "
   ]
  },
  {
   "cell_type": "code",
   "execution_count": 3,
   "metadata": {},
   "outputs": [
    {
     "name": "stdout",
     "output_type": "stream",
     "text": [
      "\n",
      "Total count for 00 and 11 are: {'00': 473, '11': 527}\n"
     ]
    },
    {
     "data": {
      "text/html": [
       "<pre style=\"word-wrap: normal;white-space: pre;background: #fff0;line-height: 1.1;font-family: &quot;Courier New&quot;,Courier,monospace\">     ┌───┐     ┌─┐   \n",
       "q_0: ┤ H ├──■──┤M├───\n",
       "     └───┘┌─┴─┐└╥┘┌─┐\n",
       "q_1: ─────┤ X ├─╫─┤M├\n",
       "          └───┘ ║ └╥┘\n",
       "c: 2/═══════════╩══╩═\n",
       "                0  1 </pre>"
      ],
      "text/plain": [
       "     ┌───┐     ┌─┐   \n",
       "q_0: ┤ H ├──■──┤M├───\n",
       "     └───┘┌─┴─┐└╥┘┌─┐\n",
       "q_1: ─────┤ X ├─╫─┤M├\n",
       "          └───┘ ║ └╥┘\n",
       "c: 2/═══════════╩══╩═\n",
       "                0  1 "
      ]
     },
     "execution_count": 3,
     "metadata": {},
     "output_type": "execute_result"
    }
   ],
   "source": [
    "# Use Aer's qasm_simulator\n",
    "simulator = Aer.get_backend('qasm_simulator')\n",
    "\n",
    "# Create a Quantum Circuit acting on the q register\n",
    "circuit = QuantumCircuit(2, 2)\n",
    "\n",
    "# Add a H gate on qubit 0\n",
    "circuit.h(0)\n",
    "\n",
    "# Add a CX (CNOT) gate on control qubit 0 and target qubit 1\n",
    "circuit.cx(0, 1)\n",
    "\n",
    "# Map the quantum measurement to the classical bits\n",
    "circuit.measure([0,1], [0,1])\n",
    "\n",
    "# Execute the circuit on the qasm simulator\n",
    "job = execute(circuit, simulator, shots=1000)\n",
    "\n",
    "# Grab results from the job\n",
    "result = job.result()\n",
    "\n",
    "# Returns counts\n",
    "counts = result.get_counts(circuit)\n",
    "print(\"\\nTotal count for 00 and 11 are:\",counts)\n",
    "\n",
    "# Draw the circuit\n",
    "circuit.draw()\n"
   ]
  },
  {
   "cell_type": "markdown",
   "metadata": {
    "collapsed": true
   },
   "source": [
    "# The Atoms of Computation Chapter\n",
    "\n",
    "Below I now analyze and solve some of the problems in the section from chapter 1 at the Qiskit Textbook. (...) In this we are expressing numbers as multiples of 2, 4, 8, 16, 32, etc. instead of 10, 100, 1000, etc. "
   ]
  },
  {
   "cell_type": "code",
   "execution_count": 10,
   "metadata": {},
   "outputs": [
    {
     "name": "stderr",
     "output_type": "stream",
     "text": [
      "ERROR: Invalid requirement: './qiskit-textbook-src'\n",
      "WARNING: You are using pip version 19.2.3, however version 21.0 is available.\n",
      "You should consider upgrading via the 'python -m pip install --upgrade pip' command.\n"
     ]
    },
    {
     "ename": "ImportError",
     "evalue": "cannot import name 'qiskit_texbook'",
     "output_type": "error",
     "traceback": [
      "\u001b[1;31m---------------------------------------------------------------------------\u001b[0m",
      "\u001b[1;31mImportError\u001b[0m                               Traceback (most recent call last)",
      "\u001b[1;32m<ipython-input-10-f01088deee94>\u001b[0m in \u001b[0;36m<module>\u001b[1;34m()\u001b[0m\n\u001b[0;32m      1\u001b[0m \u001b[0mget_ipython\u001b[0m\u001b[1;33m(\u001b[0m\u001b[1;33m)\u001b[0m\u001b[1;33m.\u001b[0m\u001b[0msystem\u001b[0m\u001b[1;33m(\u001b[0m\u001b[1;34m'pip install ./qiskit-textbook-src'\u001b[0m\u001b[1;33m)\u001b[0m\u001b[1;33m\u001b[0m\u001b[0m\n\u001b[0;32m      2\u001b[0m \u001b[1;33m\u001b[0m\u001b[0m\n\u001b[1;32m----> 3\u001b[1;33m \u001b[1;32mfrom\u001b[0m \u001b[0mqiskit\u001b[0m \u001b[1;32mimport\u001b[0m \u001b[1;33m(\u001b[0m\u001b[0mqiskit_texbook\u001b[0m\u001b[1;33m)\u001b[0m\u001b[1;33m\u001b[0m\u001b[0m\n\u001b[0m\u001b[0;32m      4\u001b[0m \u001b[1;32mfrom\u001b[0m \u001b[0mqiskit_textbook\u001b[0m\u001b[1;33m.\u001b[0m\u001b[0mwidgets\u001b[0m \u001b[1;32mimport\u001b[0m \u001b[0mbinary_widget\u001b[0m\u001b[1;33m\u001b[0m\u001b[0m\n\u001b[0;32m      5\u001b[0m \u001b[0mbinary_widget\u001b[0m\u001b[1;33m(\u001b[0m\u001b[0mnbits\u001b[0m\u001b[1;33m=\u001b[0m\u001b[1;36m5\u001b[0m\u001b[1;33m)\u001b[0m\u001b[1;33m\u001b[0m\u001b[0m\n",
      "\u001b[1;31mImportError\u001b[0m: cannot import name 'qiskit_texbook'"
     ]
    }
   ],
   "source": [
    "!pip install ./qiskit-textbook-src\n",
    "\n",
    "from qiskit import (qiskit_texbook)\n",
    "from qiskit_textbook.widgets import binary_widget\n",
    "binary_widget(nbits=5) "
   ]
  },
  {
   "cell_type": "markdown",
   "metadata": {
    "collapsed": true
   },
   "source": [
    "# The first Quantum Circuit\n",
    "\n",
    "Below we sketch the script for the building of the our first quantum computing circuit. As stated (quoted from the textbook): \" In a circuit, we typically need to do three jobs: First, encode the input, then do some actual computation, and finally extract an output. For your first quantum circuit, we'll focus on the last of these jobs. We start by creating a circuit with eight qubits and eight outputs. \" In our case we could do instead a ten qubit circuit:"
   ]
  },
  {
   "cell_type": "code",
   "execution_count": 4,
   "metadata": {
    "collapsed": true
   },
   "outputs": [],
   "source": [
    "n = 10\n",
    "n_q = n\n",
    "n_b = n\n",
    "qc_output = QuantumCircuit(n_q,n_b)"
   ]
  },
  {
   "cell_type": "markdown",
   "metadata": {
    "collapsed": true
   },
   "source": [
    "\" This circuit, which we have called qc_output, is created by Qiskit using QuantumCircuit. The number n_q defines the number of qubits in the circuit. With n_b we define the number of output bits we will extract from the circuit at the end.\n",
    "\n",
    "The extraction of outputs in a quantum circuit is done using an operation called measure. Each measurement tells a specific qubit to give an output to a specific output bit. The following code adds a measure operation to each of our eight qubits. The qubits and bits are both labelled by the numbers from 0 to 7 (because that’s how programmers like to do things). The command qc.measure(j,j) adds a measurement to our circuit qc that tells qubit j to write an output to bit j. \""
   ]
  },
  {
   "cell_type": "code",
   "execution_count": 5,
   "metadata": {
    "collapsed": true
   },
   "outputs": [],
   "source": [
    "for j in range(n):\n",
    "    qc_output.measure(j,j)"
   ]
  },
  {
   "cell_type": "markdown",
   "metadata": {},
   "source": [
    "We can now check a **Qiskit** vizualization of the circuit we created by the *draw()* method. "
   ]
  },
  {
   "cell_type": "code",
   "execution_count": 6,
   "metadata": {},
   "outputs": [
    {
     "data": {
      "text/html": [
       "<pre style=\"word-wrap: normal;white-space: pre;background: #fff0;line-height: 1.1;font-family: &quot;Courier New&quot;,Courier,monospace\">      ┌─┐                           \n",
       " q_0: ┤M├───────────────────────────\n",
       "      └╥┘┌─┐                        \n",
       " q_1: ─╫─┤M├────────────────────────\n",
       "       ║ └╥┘┌─┐                     \n",
       " q_2: ─╫──╫─┤M├─────────────────────\n",
       "       ║  ║ └╥┘┌─┐                  \n",
       " q_3: ─╫──╫──╫─┤M├──────────────────\n",
       "       ║  ║  ║ └╥┘┌─┐               \n",
       " q_4: ─╫──╫──╫──╫─┤M├───────────────\n",
       "       ║  ║  ║  ║ └╥┘┌─┐            \n",
       " q_5: ─╫──╫──╫──╫──╫─┤M├────────────\n",
       "       ║  ║  ║  ║  ║ └╥┘┌─┐         \n",
       " q_6: ─╫──╫──╫──╫──╫──╫─┤M├─────────\n",
       "       ║  ║  ║  ║  ║  ║ └╥┘┌─┐      \n",
       " q_7: ─╫──╫──╫──╫──╫──╫──╫─┤M├──────\n",
       "       ║  ║  ║  ║  ║  ║  ║ └╥┘┌─┐   \n",
       " q_8: ─╫──╫──╫──╫──╫──╫──╫──╫─┤M├───\n",
       "       ║  ║  ║  ║  ║  ║  ║  ║ └╥┘┌─┐\n",
       " q_9: ─╫──╫──╫──╫──╫──╫──╫──╫──╫─┤M├\n",
       "       ║  ║  ║  ║  ║  ║  ║  ║  ║ └╥┘\n",
       "c: 10/═╩══╩══╩══╩══╩══╩══╩══╩══╩══╩═\n",
       "       0  1  2  3  4  5  6  7  8  9 </pre>"
      ],
      "text/plain": [
       "      ┌─┐                           \n",
       " q_0: ┤M├───────────────────────────\n",
       "      └╥┘┌─┐                        \n",
       " q_1: ─╫─┤M├────────────────────────\n",
       "       ║ └╥┘┌─┐                     \n",
       " q_2: ─╫──╫─┤M├─────────────────────\n",
       "       ║  ║ └╥┘┌─┐                  \n",
       " q_3: ─╫──╫──╫─┤M├──────────────────\n",
       "       ║  ║  ║ └╥┘┌─┐               \n",
       " q_4: ─╫──╫──╫──╫─┤M├───────────────\n",
       "       ║  ║  ║  ║ └╥┘┌─┐            \n",
       " q_5: ─╫──╫──╫──╫──╫─┤M├────────────\n",
       "       ║  ║  ║  ║  ║ └╥┘┌─┐         \n",
       " q_6: ─╫──╫──╫──╫──╫──╫─┤M├─────────\n",
       "       ║  ║  ║  ║  ║  ║ └╥┘┌─┐      \n",
       " q_7: ─╫──╫──╫──╫──╫──╫──╫─┤M├──────\n",
       "       ║  ║  ║  ║  ║  ║  ║ └╥┘┌─┐   \n",
       " q_8: ─╫──╫──╫──╫──╫──╫──╫──╫─┤M├───\n",
       "       ║  ║  ║  ║  ║  ║  ║  ║ └╥┘┌─┐\n",
       " q_9: ─╫──╫──╫──╫──╫──╫──╫──╫──╫─┤M├\n",
       "       ║  ║  ║  ║  ║  ║  ║  ║  ║ └╥┘\n",
       "c: 10/═╩══╩══╩══╩══╩══╩══╩══╩══╩══╩═\n",
       "       0  1  2  3  4  5  6  7  8  9 "
      ]
     },
     "execution_count": 6,
     "metadata": {},
     "output_type": "execute_result"
    }
   ],
   "source": [
    "qc_output.draw()\n"
   ]
  },
  {
   "cell_type": "markdown",
   "metadata": {},
   "source": [
    "The circuit above will always output a 0000000000 since we doo not input anything to our qubits. We can count these measurements running the circuit as much as we like and plotting a histogram:"
   ]
  },
  {
   "cell_type": "code",
   "execution_count": 7,
   "metadata": {},
   "outputs": [
    {
     "data": {
      "image/png": "[encoded data removed]",
      "text/plain": [
       "<matplotlib.figure.Figure at 0x22eb9bdedd8>"
      ]
     },
     "execution_count": 7,
     "metadata": {},
     "output_type": "execute_result"
    }
   ],
   "source": [
    "counts = execute(qc_output,Aer.get_backend('qasm_simulator')).result().get_counts()\n",
    "plot_histogram(counts) "
   ]
  },
  {
   "cell_type": "markdown",
   "metadata": {},
   "source": [
    "# Creating an adder circuit\n",
    "\n",
    "In this section we will create another circuit. We will now start to providing some input qubits to our circuit. This circuit will then performe what we call an adder circuit, that is, as circuit conveting inputs and outputing its summation. For this we need to know how to encode a binary string of bits as an input. That will be done by our first instance of a quantum gate: the NOT gate. *\" Below we create a new circuit dedicated to the job of encoding and call it **qc_encode**. For now, we only specify the number of qubits. \"*"
   ]
  },
  {
   "cell_type": "code",
   "execution_count": 11,
   "metadata": {},
   "outputs": [
    {
     "data": {
      "text/html": [
       "<pre style=\"word-wrap: normal;white-space: pre;background: #fff0;line-height: 1.1;font-family: &quot;Courier New&quot;,Courier,monospace\">          \n",
       "q_0: ─────\n",
       "          \n",
       "q_1: ─────\n",
       "          \n",
       "q_2: ─────\n",
       "          \n",
       "q_3: ─────\n",
       "          \n",
       "q_4: ─────\n",
       "          \n",
       "q_5: ─────\n",
       "          \n",
       "q_6: ─────\n",
       "          \n",
       "q_7: ─────\n",
       "          \n",
       "q_8: ─────\n",
       "     ┌───┐\n",
       "q_9: ┤ X ├\n",
       "     └───┘</pre>"
      ],
      "text/plain": [
       "          \n",
       "q_0: ─────\n",
       "          \n",
       "q_1: ─────\n",
       "          \n",
       "q_2: ─────\n",
       "          \n",
       "q_3: ─────\n",
       "          \n",
       "q_4: ─────\n",
       "          \n",
       "q_5: ─────\n",
       "          \n",
       "q_6: ─────\n",
       "          \n",
       "q_7: ─────\n",
       "          \n",
       "q_8: ─────\n",
       "     ┌───┐\n",
       "q_9: ┤ X ├\n",
       "     └───┘"
      ]
     },
     "execution_count": 11,
     "metadata": {},
     "output_type": "execute_result"
    }
   ],
   "source": [
    "qc_encode = QuantumCircuit(n)\n",
    "qc_encode.x(9)\n",
    "\n",
    "qc_encode.draw()"
   ]
  },
  {
   "cell_type": "markdown",
   "metadata": {},
   "source": [
    "*Extracting results can be done using the circuit we have from before: qc_output. Adding the two circuits using qc_encode + qc_output creates a new circuit with everything needed to extract an output added at the end.*"
   ]
  },
  {
   "cell_type": "code",
   "execution_count": 12,
   "metadata": {},
   "outputs": [
    {
     "data": {
      "text/html": [
       "<pre style=\"word-wrap: normal;white-space: pre;background: #fff0;line-height: 1.1;font-family: &quot;Courier New&quot;,Courier,monospace\">           ┌─┐                           \n",
       " q_0: ─────┤M├───────────────────────────\n",
       "           └╥┘┌─┐                        \n",
       " q_1: ──────╫─┤M├────────────────────────\n",
       "            ║ └╥┘┌─┐                     \n",
       " q_2: ──────╫──╫─┤M├─────────────────────\n",
       "            ║  ║ └╥┘┌─┐                  \n",
       " q_3: ──────╫──╫──╫─┤M├──────────────────\n",
       "            ║  ║  ║ └╥┘┌─┐               \n",
       " q_4: ──────╫──╫──╫──╫─┤M├───────────────\n",
       "            ║  ║  ║  ║ └╥┘┌─┐            \n",
       " q_5: ──────╫──╫──╫──╫──╫─┤M├────────────\n",
       "            ║  ║  ║  ║  ║ └╥┘┌─┐         \n",
       " q_6: ──────╫──╫──╫──╫──╫──╫─┤M├─────────\n",
       "            ║  ║  ║  ║  ║  ║ └╥┘┌─┐      \n",
       " q_7: ──────╫──╫──╫──╫──╫──╫──╫─┤M├──────\n",
       "            ║  ║  ║  ║  ║  ║  ║ └╥┘┌─┐   \n",
       " q_8: ──────╫──╫──╫──╫──╫──╫──╫──╫─┤M├───\n",
       "      ┌───┐ ║  ║  ║  ║  ║  ║  ║  ║ └╥┘┌─┐\n",
       " q_9: ┤ X ├─╫──╫──╫──╫──╫──╫──╫──╫──╫─┤M├\n",
       "      └───┘ ║  ║  ║  ║  ║  ║  ║  ║  ║ └╥┘\n",
       "c: 10/══════╩══╩══╩══╩══╩══╩══╩══╩══╩══╩═\n",
       "            0  1  2  3  4  5  6  7  8  9 </pre>"
      ],
      "text/plain": [
       "           ┌─┐                           \n",
       " q_0: ─────┤M├───────────────────────────\n",
       "           └╥┘┌─┐                        \n",
       " q_1: ──────╫─┤M├────────────────────────\n",
       "            ║ └╥┘┌─┐                     \n",
       " q_2: ──────╫──╫─┤M├─────────────────────\n",
       "            ║  ║ └╥┘┌─┐                  \n",
       " q_3: ──────╫──╫──╫─┤M├──────────────────\n",
       "            ║  ║  ║ └╥┘┌─┐               \n",
       " q_4: ──────╫──╫──╫──╫─┤M├───────────────\n",
       "            ║  ║  ║  ║ └╥┘┌─┐            \n",
       " q_5: ──────╫──╫──╫──╫──╫─┤M├────────────\n",
       "            ║  ║  ║  ║  ║ └╥┘┌─┐         \n",
       " q_6: ──────╫──╫──╫──╫──╫──╫─┤M├─────────\n",
       "            ║  ║  ║  ║  ║  ║ └╥┘┌─┐      \n",
       " q_7: ──────╫──╫──╫──╫──╫──╫──╫─┤M├──────\n",
       "            ║  ║  ║  ║  ║  ║  ║ └╥┘┌─┐   \n",
       " q_8: ──────╫──╫──╫──╫──╫──╫──╫──╫─┤M├───\n",
       "      ┌───┐ ║  ║  ║  ║  ║  ║  ║  ║ └╥┘┌─┐\n",
       " q_9: ┤ X ├─╫──╫──╫──╫──╫──╫──╫──╫──╫─┤M├\n",
       "      └───┘ ║  ║  ║  ║  ║  ║  ║  ║  ║ └╥┘\n",
       "c: 10/══════╩══╩══╩══╩══╩══╩══╩══╩══╩══╩═\n",
       "            0  1  2  3  4  5  6  7  8  9 "
      ]
     },
     "execution_count": 12,
     "metadata": {},
     "output_type": "execute_result"
    }
   ],
   "source": [
    "qc = qc_encode + qc_output\n",
    "qc.draw()"
   ]
  },
  {
   "cell_type": "markdown",
   "metadata": {},
   "source": [
    "We can now look at the combined results plotted in an histogram:"
   ]
  },
  {
   "cell_type": "code",
   "execution_count": 13,
   "metadata": {},
   "outputs": [
    {
     "data": {
      "image/png": "[encoded data removed]",
      "text/plain": [
       "<matplotlib.figure.Figure at 0x22eb9bdef98>"
      ]
     },
     "execution_count": 13,
     "metadata": {},
     "output_type": "execute_result"
    }
   ],
   "source": [
    "counts = execute(qc,Aer.get_backend('qasm_simulator')).result().get_counts()\n",
    "plot_histogram(counts)"
   ]
  },
  {
   "cell_type": "markdown",
   "metadata": {},
   "source": [
    "Now our computer outputs the string 1000000000 instead.\n",
    "\n",
    "The bit we flipped, which comes from qubit 9, lives on the far left of the string. This is because Qiskit numbers the bits in a string from right to left. Some prefer to number their bits the other way around, but Qiskit's system certainly has its advantages when we are using the bits to represent numbers. So in our case by flipping the 9th bit, we’ve now written the number 512 in our simple 10-bit computer."
   ]
  },
  {
   "cell_type": "markdown",
   "metadata": {},
   "source": [
    "I can draw my age 44 (BIN 10 1100) as a bit strinbg input to our circuit:"
   ]
  },
  {
   "cell_type": "code",
   "execution_count": 14,
   "metadata": {},
   "outputs": [
    {
     "data": {
      "text/html": [
       "<pre style=\"word-wrap: normal;white-space: pre;background: #fff0;line-height: 1.1;font-family: &quot;Courier New&quot;,Courier,monospace\">          \n",
       "q_0: ─────\n",
       "          \n",
       "q_1: ─────\n",
       "     ┌───┐\n",
       "q_2: ┤ X ├\n",
       "     ├───┤\n",
       "q_3: ┤ X ├\n",
       "     └───┘\n",
       "q_4: ─────\n",
       "     ┌───┐\n",
       "q_5: ┤ X ├\n",
       "     └───┘\n",
       "q_6: ─────\n",
       "          \n",
       "q_7: ─────\n",
       "          \n",
       "q_8: ─────\n",
       "          \n",
       "q_9: ─────\n",
       "          </pre>"
      ],
      "text/plain": [
       "          \n",
       "q_0: ─────\n",
       "          \n",
       "q_1: ─────\n",
       "     ┌───┐\n",
       "q_2: ┤ X ├\n",
       "     ├───┤\n",
       "q_3: ┤ X ├\n",
       "     └───┘\n",
       "q_4: ─────\n",
       "     ┌───┐\n",
       "q_5: ┤ X ├\n",
       "     └───┘\n",
       "q_6: ─────\n",
       "          \n",
       "q_7: ─────\n",
       "          \n",
       "q_8: ─────\n",
       "          \n",
       "q_9: ─────\n",
       "          "
      ]
     },
     "execution_count": 14,
     "metadata": {},
     "output_type": "execute_result"
    }
   ],
   "source": [
    "qc_encode = QuantumCircuit(n)\n",
    "qc_encode.x(2)\n",
    "qc_encode.x(3)\n",
    "qc_encode.x(5)\n",
    "\n",
    "qc_encode.draw()"
   ]
  },
  {
   "cell_type": "markdown",
   "metadata": {},
   "source": [
    "*Now we know how to encode information in a computer. The next step is to process it: To take an input that we have encoded, and turn it into an output that we need.*\n",
    "\n"
   ]
  },
  {
   "attachments": {
    "image.png": {
     "image/png": "[encoded data removed]"
    }
   },
   "cell_type": "markdown",
   "metadata": {},
   "source": [
    "## Build the adder\n",
    "\n",
    "We are now ready to build our adder with **Qiskit**. We will start by building an half-adder. This is separeated in three parts: a part of the circuit that encodes the qubit, a part that executes the algorithm and a part that extracts the result. The first part is changed whenever we change the input values, but the other two parts remain the same. \n",
    "\n",
    "![image.png](attachment:image.png)"
   ]
  },
  {
   "cell_type": "markdown",
   "metadata": {},
   "source": [
    "*The two bits we want to add are encoded in the qubits 0 and 1. The above example encodes a 1 in both these qubits, and so it seeks to find the solution of 1+1. The result will be a string of two bits, which we will read out from the qubits 2 and 3. All that remains is to fill in the actual program, which lives in the blank space in the middle.*"
   ]
  },
  {
   "cell_type": "markdown",
   "metadata": {},
   "source": [
    "*The basic operations of computing are known as logic gates. We’ve already used the NOT gate, but this is not enough to make our half adder. We could only use it to manually write out the answers. Since we want the computer to do the actual computing for us, we’ll need some more powerful gates.\n",
    "\n",
    "To see what we need, let’s take another look at what our half adder needs to do.\n",
    "\n",
    "0+0 = 00\n",
    "0+1 = 01\n",
    "1+0 = 01\n",
    "1+1 = 10* \n",
    "\n",
    "*To get this part of our solution correct, we need something that can figure out whether two bits are different or not. Traditionally, in the study of digital computation, this is called an XOR gate.*\n",
    "\n",
    "\n"
   ]
  },
  {
   "cell_type": "markdown",
   "metadata": {},
   "source": [
    "*In quantum computers, the job of the XOR gate is done by the controlled-NOT gate. Since that's quite a long name, we usually just call it the CNOT. In Qiskit its name is cx, which is even shorter. In circuit diagrams, it is drawn as in the image below.*\n",
    "\n"
   ]
  },
  {
   "cell_type": "code",
   "execution_count": 15,
   "metadata": {},
   "outputs": [
    {
     "data": {
      "text/html": [
       "<pre style=\"word-wrap: normal;white-space: pre;background: #fff0;line-height: 1.1;font-family: &quot;Courier New&quot;,Courier,monospace\">          \n",
       "q_0: ──■──\n",
       "     ┌─┴─┐\n",
       "q_1: ┤ X ├\n",
       "     └───┘</pre>"
      ],
      "text/plain": [
       "          \n",
       "q_0: ──■──\n",
       "     ┌─┴─┐\n",
       "q_1: ┤ X ├\n",
       "     └───┘"
      ]
     },
     "execution_count": 15,
     "metadata": {},
     "output_type": "execute_result"
    }
   ],
   "source": [
    "qc_cnot = QuantumCircuit(2)\n",
    "qc_cnot.cx(0,1)\n",
    "qc_cnot.draw() "
   ]
  },
  {
   "attachments": {
    "image.png": {
     "image/png": "[encoded data removed]"
    }
   },
   "cell_type": "markdown",
   "metadata": {},
   "source": [
    "*There are multiple ways to explain the effect of the CNOT. One is to say that it looks at its two input bits to see whether they are the same or different. Next, it overwrites the target qubit with the answer. The target becomes 0 if they are the same, and 1 if they are different.*\n",
    "\n",
    "![image.png](attachment:image.png) "
   ]
  },
  {
   "cell_type": "markdown",
   "metadata": {},
   "source": [
    "*Another way of explaining the CNOT is to say that it does a NOT on the target if the control is 1, and does nothing otherwise. This explanation is just as valid as the previous one (in fact, it’s the one that gives the gate its name).*\n",
    "\n",
    "Try the CNOT out for yourself by trying each of the possible inputs. For example, here's a circuit that tests the CNOT with the input 01."
   ]
  },
  {
   "cell_type": "code",
   "execution_count": 16,
   "metadata": {},
   "outputs": [
    {
     "data": {
      "text/html": [
       "<pre style=\"word-wrap: normal;white-space: pre;background: #fff0;line-height: 1.1;font-family: &quot;Courier New&quot;,Courier,monospace\">     ┌───┐     ┌─┐   \n",
       "q_0: ┤ X ├──■──┤M├───\n",
       "     └───┘┌─┴─┐└╥┘┌─┐\n",
       "q_1: ─────┤ X ├─╫─┤M├\n",
       "          └───┘ ║ └╥┘\n",
       "c: 2/═══════════╩══╩═\n",
       "                0  1 </pre>"
      ],
      "text/plain": [
       "     ┌───┐     ┌─┐   \n",
       "q_0: ┤ X ├──■──┤M├───\n",
       "     └───┘┌─┴─┐└╥┘┌─┐\n",
       "q_1: ─────┤ X ├─╫─┤M├\n",
       "          └───┘ ║ └╥┘\n",
       "c: 2/═══════════╩══╩═\n",
       "                0  1 "
      ]
     },
     "execution_count": 16,
     "metadata": {},
     "output_type": "execute_result"
    }
   ],
   "source": [
    "qc = QuantumCircuit(2,2)\n",
    "qc.x(0)\n",
    "qc.cx(0,1)\n",
    "qc.measure(0,0)\n",
    "qc.measure(1,1)\n",
    "qc.draw()"
   ]
  },
  {
   "cell_type": "code",
   "execution_count": 17,
   "metadata": {},
   "outputs": [
    {
     "data": {
      "text/html": [
       "<pre style=\"word-wrap: normal;white-space: pre;background: #fff0;line-height: 1.1;font-family: &quot;Courier New&quot;,Courier,monospace\">          ┌───┐┌─┐   \n",
       "q_0: ─────┤ X ├┤M├───\n",
       "     ┌───┐└─┬─┘└╥┘┌─┐\n",
       "q_1: ┤ X ├──■───╫─┤M├\n",
       "     └───┘      ║ └╥┘\n",
       "c: 2/═══════════╩══╩═\n",
       "                0  1 </pre>"
      ],
      "text/plain": [
       "          ┌───┐┌─┐   \n",
       "q_0: ─────┤ X ├┤M├───\n",
       "     ┌───┐└─┬─┘└╥┘┌─┐\n",
       "q_1: ┤ X ├──■───╫─┤M├\n",
       "     └───┘      ║ └╥┘\n",
       "c: 2/═══════════╩══╩═\n",
       "                0  1 "
      ]
     },
     "execution_count": 17,
     "metadata": {},
     "output_type": "execute_result"
    }
   ],
   "source": [
    "qc = QuantumCircuit(2,2)\n",
    "qc.x(1)\n",
    "qc.cx(1,0)\n",
    "qc.measure(0,0)\n",
    "qc.measure(1,1)\n",
    "qc.draw()"
   ]
  },
  {
   "cell_type": "code",
   "execution_count": 19,
   "metadata": {},
   "outputs": [
    {
     "data": {
      "text/html": [
       "<pre style=\"word-wrap: normal;white-space: pre;background: #fff0;line-height: 1.1;font-family: &quot;Courier New&quot;,Courier,monospace\">     ┌───┐┌───┐┌─┐   \n",
       "q_0: ┤ X ├┤ X ├┤M├───\n",
       "     └───┘└─┬─┘└╥┘┌─┐\n",
       "q_1: ───────■───╫─┤M├\n",
       "                ║ └╥┘\n",
       "c: 2/═══════════╩══╩═\n",
       "                1  0 </pre>"
      ],
      "text/plain": [
       "     ┌───┐┌───┐┌─┐   \n",
       "q_0: ┤ X ├┤ X ├┤M├───\n",
       "     └───┘└─┬─┘└╥┘┌─┐\n",
       "q_1: ───────■───╫─┤M├\n",
       "                ║ └╥┘\n",
       "c: 2/═══════════╩══╩═\n",
       "                1  0 "
      ]
     },
     "execution_count": 19,
     "metadata": {},
     "output_type": "execute_result"
    }
   ],
   "source": [
    "qc = QuantumCircuit(2,2)\n",
    "qc.x(0)\n",
    "qc.cx(1,0)\n",
    "qc.measure(0,1)\n",
    "qc.measure(1,0)\n",
    "qc.draw()"
   ]
  },
  {
   "cell_type": "code",
   "execution_count": 20,
   "metadata": {},
   "outputs": [
    {
     "data": {
      "text/html": [
       "<pre style=\"word-wrap: normal;white-space: pre;background: #fff0;line-height: 1.1;font-family: &quot;Courier New&quot;,Courier,monospace\">                  ┌─┐\n",
       "q_0: ───────■─────┤M├\n",
       "     ┌───┐┌─┴─┐┌─┐└╥┘\n",
       "q_1: ┤ X ├┤ X ├┤M├─╫─\n",
       "     └───┘└───┘└╥┘ ║ \n",
       "c: 2/═══════════╩══╩═\n",
       "                0  1 </pre>"
      ],
      "text/plain": [
       "                  ┌─┐\n",
       "q_0: ───────■─────┤M├\n",
       "     ┌───┐┌─┴─┐┌─┐└╥┘\n",
       "q_1: ┤ X ├┤ X ├┤M├─╫─\n",
       "     └───┘└───┘└╥┘ ║ \n",
       "c: 2/═══════════╩══╩═\n",
       "                0  1 "
      ]
     },
     "execution_count": 20,
     "metadata": {},
     "output_type": "execute_result"
    }
   ],
   "source": [
    "qc = QuantumCircuit(2,2)\n",
    "qc.x(1)\n",
    "qc.cx(0,1)\n",
    "qc.measure(1,0)\n",
    "qc.measure(0,1)\n",
    "qc.draw()"
   ]
  },
  {
   "cell_type": "code",
   "execution_count": 21,
   "metadata": {},
   "outputs": [
    {
     "data": {
      "text/html": [
       "<pre style=\"word-wrap: normal;white-space: pre;background: #fff0;line-height: 1.1;font-family: &quot;Courier New&quot;,Courier,monospace\">               ┌─┐   \n",
       "q_0: ───────■──┤M├───\n",
       "     ┌───┐┌─┴─┐└╥┘┌─┐\n",
       "q_1: ┤ X ├┤ X ├─╫─┤M├\n",
       "     └───┘└───┘ ║ └╥┘\n",
       "c: 2/═══════════╩══╩═\n",
       "                0  1 </pre>"
      ],
      "text/plain": [
       "               ┌─┐   \n",
       "q_0: ───────■──┤M├───\n",
       "     ┌───┐┌─┴─┐└╥┘┌─┐\n",
       "q_1: ┤ X ├┤ X ├─╫─┤M├\n",
       "     └───┘└───┘ ║ └╥┘\n",
       "c: 2/═══════════╩══╩═\n",
       "                0  1 "
      ]
     },
     "execution_count": 21,
     "metadata": {},
     "output_type": "execute_result"
    }
   ],
   "source": [
    "qc = QuantumCircuit(2,2)\n",
    "qc.x(1)\n",
    "qc.cx(0,1)\n",
    "qc.measure(0,0)\n",
    "qc.measure(1,1)\n",
    "qc.draw()"
   ]
  },
  {
   "cell_type": "markdown",
   "metadata": {},
   "source": [
    "By now it should be stressed that this seemingly \"*addition*\" or \"*summation*\" is not of the usual type or common basic sum of two digits algortithms. This is using a loaded form of operation from linear algebra of summing two numbers, but numbers of a special type: **vectors** or **tensors**. Therefore what the CNOT does for us is the Quantum Mechanical operation of *entanglement* between to qubits."
   ]
  },
  {
   "cell_type": "markdown",
   "metadata": {},
   "source": [
    "To know what *entanglement* is we must come to analyze this qiskit textbook with some Quantum Physics knowledge backgroung already learned. For our purposes here we just say that tthe two qubits are now in a particular form of linear close correlation, which permit us to operate the computations we want of a Quantum Computer and its units of computation, the qubits.\n"
   ]
  },
  {
   "cell_type": "markdown",
   "metadata": {},
   "source": [
    "We can now formalize our half-adder as a quantum half adder. We are now in part two of the aforementioned parts, and we can excute a more formal algorithm. The last part will be about measurement and storing/extraction of the results. We can do it in a single notebook cell as follows:"
   ]
  },
  {
   "cell_type": "code",
   "execution_count": 22,
   "metadata": {},
   "outputs": [
    {
     "data": {
      "text/html": [
       "<pre style=\"word-wrap: normal;white-space: pre;background: #fff0;line-height: 1.1;font-family: &quot;Courier New&quot;,Courier,monospace\">     ┌───┐ ░            ░       \n",
       "q_0: ┤ X ├─░───■────────░───────\n",
       "     ├───┤ ░   │        ░       \n",
       "q_1: ┤ X ├─░───┼────■───░───────\n",
       "     └───┘ ░ ┌─┴─┐┌─┴─┐ ░ ┌─┐   \n",
       "q_2: ──────░─┤ X ├┤ X ├─░─┤M├───\n",
       "           ░ └───┘└───┘ ░ └╥┘┌─┐\n",
       "q_3: ──────░────────────░──╫─┤M├\n",
       "           ░            ░  ║ └╥┘\n",
       "c: 2/══════════════════════╩══╩═\n",
       "                           0  1 </pre>"
      ],
      "text/plain": [
       "     ┌───┐ ░            ░       \n",
       "q_0: ┤ X ├─░───■────────░───────\n",
       "     ├───┤ ░   │        ░       \n",
       "q_1: ┤ X ├─░───┼────■───░───────\n",
       "     └───┘ ░ ┌─┴─┐┌─┴─┐ ░ ┌─┐   \n",
       "q_2: ──────░─┤ X ├┤ X ├─░─┤M├───\n",
       "           ░ └───┘└───┘ ░ └╥┘┌─┐\n",
       "q_3: ──────░────────────░──╫─┤M├\n",
       "           ░            ░  ║ └╥┘\n",
       "c: 2/══════════════════════╩══╩═\n",
       "                           0  1 "
      ]
     },
     "execution_count": 22,
     "metadata": {},
     "output_type": "execute_result"
    }
   ],
   "source": [
    "qc_half_adder = QuantumCircuit(4,2)\n",
    "# encode inputs in qubits 0 and 1\n",
    "qc_half_adder.x(0) # For a=0, remove this line. For a=1, leave it.\n",
    "qc_half_adder.x(1) # For b=0, remove this line. For b=1, leave it.\n",
    "qc_half_adder.barrier()\n",
    "# use cnots to write the XOR of the inputs on qubit 2\n",
    "qc_half_adder.cx(0,2)\n",
    "qc_half_adder.cx(1,2)\n",
    "qc_half_adder.barrier()\n",
    "# extract outputs\n",
    "qc_half_adder.measure(2,0) # extract XOR value\n",
    "qc_half_adder.measure(3,1)\n",
    "\n",
    "qc_half_adder.draw()"
   ]
  },
  {
   "cell_type": "markdown",
   "metadata": {},
   "source": [
    "There is one missing bit here now. We need to store an addition bit for the case where 1+1 = 10, as this bit might be useful to complete operations requirirng an extra bit for a *carrier overflow*, a common operation when adding large numbers in binary bits. But the explanation within the textbook is a better one tell in us what the complete quantum half adder must do to become fully operational (it is  succint explanation of the **Toffoli Gate** which becomes an important part of mots relevant quantum circuits and algorithms):  *\" We are now halfway to a fully working half adder. We just have the other bit of the output left to do: the one that will live on qubit 3. If you look again at the four possible sums, you’ll notice that there is only one case for which this is 1 instead of 0: 1+1=10. It happens only when both the bits we are adding are 1. To calculate this part of the output, we could just get our computer to look at whether both of the inputs are 1. If they are — and only if they are — we need to do a NOT gate on qubit 3. That will flip it to the required value of 1 for this case only, giving us the output we need. For this, we need a new gate: like a CNOT but controlled on two qubits instead of just one. This will perform a NOT on the target qubit only when both controls are in state 1. This new gate is called the Toffoli. For those of you who are familiar with Boolean logic gates, it is basically an AND gate.\"* "
   ]
  },
  {
   "cell_type": "code",
   "execution_count": 23,
   "metadata": {},
   "outputs": [
    {
     "data": {
      "text/html": [
       "<pre style=\"word-wrap: normal;white-space: pre;background: #fff0;line-height: 1.1;font-family: &quot;Courier New&quot;,Courier,monospace\">     ┌───┐ ░                 ░       \n",
       "q_0: ┤ X ├─░───■─────────■───░───────\n",
       "     ├───┤ ░   │         │   ░       \n",
       "q_1: ┤ X ├─░───┼────■────■───░───────\n",
       "     └───┘ ░ ┌─┴─┐┌─┴─┐  │   ░ ┌─┐   \n",
       "q_2: ──────░─┤ X ├┤ X ├──┼───░─┤M├───\n",
       "           ░ └───┘└───┘┌─┴─┐ ░ └╥┘┌─┐\n",
       "q_3: ──────░───────────┤ X ├─░──╫─┤M├\n",
       "           ░           └───┘ ░  ║ └╥┘\n",
       "c: 2/═══════════════════════════╩══╩═\n",
       "                                0  1 </pre>"
      ],
      "text/plain": [
       "     ┌───┐ ░                 ░       \n",
       "q_0: ┤ X ├─░───■─────────■───░───────\n",
       "     ├───┤ ░   │         │   ░       \n",
       "q_1: ┤ X ├─░───┼────■────■───░───────\n",
       "     └───┘ ░ ┌─┴─┐┌─┴─┐  │   ░ ┌─┐   \n",
       "q_2: ──────░─┤ X ├┤ X ├──┼───░─┤M├───\n",
       "           ░ └───┘└───┘┌─┴─┐ ░ └╥┘┌─┐\n",
       "q_3: ──────░───────────┤ X ├─░──╫─┤M├\n",
       "           ░           └───┘ ░  ║ └╥┘\n",
       "c: 2/═══════════════════════════╩══╩═\n",
       "                                0  1 "
      ]
     },
     "execution_count": 23,
     "metadata": {},
     "output_type": "execute_result"
    }
   ],
   "source": [
    "qc_half_adder = QuantumCircuit(4,2)\n",
    "# encode inputs in qubits 0 and 1\n",
    "qc_half_adder.x(0) # For a=0, remove the this line. For a=1, leave it.\n",
    "qc_half_adder.x(1) # For b=0, remove the this line. For b=1, leave it.\n",
    "qc_half_adder.barrier()\n",
    "# use cnots to write the XOR of the inputs on qubit 2\n",
    "qc_half_adder.cx(0,2)\n",
    "qc_half_adder.cx(1,2)\n",
    "# use ccx to write the AND of the inputs on qubit 3\n",
    "qc_half_adder.ccx(0,1,3)\n",
    "qc_half_adder.barrier()\n",
    "# extract outputs\n",
    "qc_half_adder.measure(2,0) # extract XOR value\n",
    "qc_half_adder.measure(3,1) # extract AND value\n",
    "\n",
    "qc_half_adder.draw()"
   ]
  },
  {
   "cell_type": "markdown",
   "metadata": {},
   "source": [
    "By plotting an histogram we can vizualize what we get in termos of counts of results extracted:"
   ]
  },
  {
   "cell_type": "code",
   "execution_count": 25,
   "metadata": {},
   "outputs": [
    {
     "data": {
      "image/png": "[encoded data removed]",
      "text/plain": [
       "<matplotlib.figure.Figure at 0x22eb9f76208>"
      ]
     },
     "execution_count": 25,
     "metadata": {},
     "output_type": "execute_result"
    }
   ],
   "source": [
    "counts = execute(qc_half_adder,Aer.get_backend('qasm_simulator')).result().get_counts()\n",
    "plot_histogram(counts)"
   ]
  },
  {
   "cell_type": "markdown",
   "metadata": {},
   "source": [
    "*\"The result is 10, which is the binary representation of the number 2. We have built a computer that can solve the famous mathematical problem of 1+1!\n",
    " Now you can try it out with the other three possible inputs, and show that our algorithm gives the right results for those too.\"*"
   ]
  },
  {
   "cell_type": "markdown",
   "metadata": {},
   "source": [
    "*\" The half adder contains everything you need for addition. With the NOT, CNOT, and Toffoli gates, we can create programs that add any set of numbers of any size.\n",
    "These three gates are enough to do everything else in computing too. In fact, we can even do without the CNOT. Additionally, the NOT gate is only really needed to create bits with value 1. The Toffoli gate is essentially the atom of mathematics. It is the simplest element, from which every other problem-solving technique can be compiled.\n",
    "As we'll see, in quantum computing we split the atom.\"*"
   ]
  },
  {
   "cell_type": "code",
   "execution_count": null,
   "metadata": {
    "collapsed": true
   },
   "outputs": [],
   "source": []
  }
 ],
 "metadata": {
  "kernelspec": {
   "display_name": "Python 3",
   "language": "python",
   "name": "python3"
  },
  "language_info": {
   "codemirror_mode": {
    "name": "ipython",
    "version": 3
   },
   "file_extension": ".py",
   "mimetype": "text/x-python",
   "name": "python",
   "nbconvert_exporter": "python",
   "pygments_lexer": "ipython3",
   "version": "3.6.3"
  }
 },
 "nbformat": 4,
 "nbformat_minor": 2
}
